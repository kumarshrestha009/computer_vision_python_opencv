{
 "cells": [
  {
   "cell_type": "code",
   "execution_count": 1,
   "metadata": {},
   "outputs": [],
   "source": [
    "import cv2\n",
    "import numpy as np\n",
    "import matplotlib.pyplot as plt\n",
    "%matplotlib inline"
   ]
  },
  {
   "cell_type": "code",
   "execution_count": 2,
   "metadata": {},
   "outputs": [],
   "source": [
    "def display_img(img,cmap='gray'):\n",
    "  fig = plt.figure(figsize = (12,10))\n",
    "  ax = fig.add_subplot(111)\n",
    "  ax.imshow(img,cmap)\n",
    "  "
   ]
  },
  {
   "cell_type": "code",
   "execution_count": 3,
   "metadata": {},
   "outputs": [
    {
     "data": {
      "text/plain": [
       "numpy.ndarray"
      ]
     },
     "execution_count": 3,
     "metadata": {},
     "output_type": "execute_result"
    }
   ],
   "source": [
    "road = cv2.imread('../DATA/road_image.jpg')\n",
    "type(road)"
   ]
  },
  {
   "cell_type": "code",
   "execution_count": 4,
   "metadata": {},
   "outputs": [],
   "source": [
    "road_copy = road.copy() "
   ]
  },
  {
   "cell_type": "code",
   "execution_count": 5,
   "metadata": {},
   "outputs": [],
   "source": [
    "marker_image = np.zeros(road.shape[:2],np.int32)\n"
   ]
  },
  {
   "cell_type": "code",
   "execution_count": 6,
   "metadata": {},
   "outputs": [],
   "source": [
    "segments = np.zeros(road.shape,np.uint8)"
   ]
  },
  {
   "cell_type": "code",
   "execution_count": 7,
   "metadata": {},
   "outputs": [],
   "source": [
    "from matplotlib import cm"
   ]
  },
  {
   "cell_type": "code",
   "execution_count": 8,
   "metadata": {},
   "outputs": [
    {
     "data": {
      "text/plain": [
       "(1.0, 0.4980392156862745, 0.054901960784313725, 1.0)"
      ]
     },
     "execution_count": 8,
     "metadata": {},
     "output_type": "execute_result"
    }
   ],
   "source": [
    "cm.tab10(1)"
   ]
  },
  {
   "cell_type": "code",
   "execution_count": 9,
   "metadata": {},
   "outputs": [
    {
     "data": {
      "text/plain": [
       "(255.0, 127.0, 14.0)"
      ]
     },
     "execution_count": 9,
     "metadata": {},
     "output_type": "execute_result"
    }
   ],
   "source": [
    "tuple(np.asarray(cm.tab10(1)[:3])*255)"
   ]
  },
  {
   "cell_type": "code",
   "execution_count": 10,
   "metadata": {},
   "outputs": [],
   "source": [
    "def create_rgb(i):\n",
    "  return (tuple(np.asarray(cm.tab10(i)[:3])*255))"
   ]
  },
  {
   "cell_type": "code",
   "execution_count": 11,
   "metadata": {},
   "outputs": [],
   "source": [
    "colors = []\n",
    "for i in range(10):\n",
    "  colors.append(create_rgb(i))"
   ]
  },
  {
   "cell_type": "code",
   "execution_count": 12,
   "metadata": {},
   "outputs": [],
   "source": [
    "#GLOBAL VARIABLES\n",
    "#COLOR CHOICE\n",
    "current_marker = 1\n",
    "marks_updated = False\n",
    "n_markers = 10"
   ]
  },
  {
   "cell_type": "code",
   "execution_count": 13,
   "metadata": {},
   "outputs": [],
   "source": [
    "#Callback Functions\n",
    "def mouse_callback(event,x,y,flags,param):\n",
    "  global current_marker, mark_updates\n",
    "  \n",
    "  if event == cv2.EVENT_LBUTTONDOWN:\n",
    "    #MARKER PASSED ON THE WATERSHED ALGORITHM\n",
    "    cv2.circle(img=marker_image, center=(x,y), radius=10, color=(current_marker),thickness=-1)\n",
    "    #USER SEES ON THE ROAD IMAGE\n",
    "    cv2.circle(img=road_copy,center=(x,y),radius = 10,color = (colors[current_marker]),thickness = -1)\n",
    "    \n",
    "    marks_update = True\n",
    "    "
   ]
  },
  {
   "cell_type": "code",
   "execution_count": null,
   "metadata": {},
   "outputs": [],
   "source": [
    "#CONNECTING CALLBACK\n",
    "#WHILE LOOP\n",
    "\n",
    "cv2.namedWindow(winname = 'road_image')\n",
    "cv2.setMouseCallback('road_image',mouse_callback)\n",
    "\n",
    "while True:\n",
    "  #destroy all windows\n",
    "    cv2.imshow('Watershed Segments',segments)\n",
    "    cv2.imshow('road_image',road_copy)\n",
    "\n",
    "    #close all windows\n",
    "    k = cv2.waitKey(1)\n",
    "    if k == 27:\n",
    "        break\n",
    "    elif k == ord('c'):\n",
    "        road_copy = road.copy()\n",
    "        marker_image = np.zeros(road.shape[:2],np.int32)\n",
    "        segments = np.zeros(road.shape,np.uint8)    \n",
    "        #update color choice\n",
    "    if k > 0 and chr(k).isdigit():\n",
    "        current_marker = int(char(k))\n",
    "    \n",
    "    #update the markings\n",
    "    if marks_updated:\n",
    "        marker_image_copy= marker_image.copy()\n",
    "        cv2.watershed(road,marker_image_copy)\n",
    "        segments = np.zeros(road.shape,np.uint8)    \n",
    "        \n",
    "        for color_ind in range(n_markers):\n",
    "            segments[marker_image_copy==(color_ind)]=colors[color_ind]\n",
    "\n",
    "        \n",
    "        \n",
    "cv2.destroyAllWindows()"
   ]
  },
  {
   "cell_type": "code",
   "execution_count": null,
   "metadata": {},
   "outputs": [],
   "source": []
  },
  {
   "cell_type": "code",
   "execution_count": null,
   "metadata": {},
   "outputs": [],
   "source": []
  }
 ],
 "metadata": {
  "kernelspec": {
   "display_name": "Python 3",
   "language": "python",
   "name": "python3"
  },
  "language_info": {
   "codemirror_mode": {
    "name": "ipython",
    "version": 3
   },
   "file_extension": ".py",
   "mimetype": "text/x-python",
   "name": "python",
   "nbconvert_exporter": "python",
   "pygments_lexer": "ipython3",
   "version": "3.6.8"
  }
 },
 "nbformat": 4,
 "nbformat_minor": 2
}
